{
 "cells": [
  {
   "cell_type": "code",
   "execution_count": 1,
   "metadata": {
    "collapsed": true
   },
   "outputs": [],
   "source": [
    "import collections\n",
    "\n",
    "Card = collections.namedtuple('Card', ['rank', 'suit'])\n",
    "\n",
    "class FrenchDeck:\n",
    "    ranks = [str(n) for n in range(2, 11)] + list('JQKA')\n",
    "    suits = 'spades diamonds clubs hearts'.split()\n",
    "\n",
    "    def __init__(self):\n",
    "        self._cards = [Card(rank, suit) for suit in self.suits\n",
    "                                        for rank in self.ranks]\n",
    "\n",
    "    def __len__(self):\n",
    "        return len(self._cards)\n",
    "\n",
    "    def __getitem__(self, position):\n",
    "        return self._cards[position]\n"
   ]
  },
  {
   "cell_type": "code",
   "execution_count": 36,
   "metadata": {},
   "outputs": [
    {
     "data": {
      "text/plain": [
       "52"
      ]
     },
     "execution_count": 36,
     "metadata": {},
     "output_type": "execute_result"
    }
   ],
   "source": [
    "deck1=FrenchDeck()\n",
    "len(deck1)"
   ]
  },
  {
   "cell_type": "markdown",
   "metadata": {},
   "source": [
    "We could select Aces by starting from 12, and then skipping 13 cards afterwards:"
   ]
  },
  {
   "cell_type": "code",
   "execution_count": 15,
   "metadata": {},
   "outputs": [
    {
     "name": "stdout",
     "output_type": "stream",
     "text": [
      "[Card(rank='A', suit='spades'), Card(rank='A', suit='diamonds'), Card(rank='A', suit='clubs'), Card(rank='A', suit='hearts')]\n"
     ]
    }
   ],
   "source": [
    "print(deck1[12::13])"
   ]
  },
  {
   "cell_type": "code",
   "execution_count": 37,
   "metadata": {},
   "outputs": [],
   "source": [
    "suits=[str(n) for n in range(2, 11)] + list('JQKA')\n",
    "ranks='spades diamonds clubs hearts'.split()"
   ]
  },
  {
   "cell_type": "code",
   "execution_count": 59,
   "metadata": {},
   "outputs": [],
   "source": [
    "deck2=[(rank, suit) for suit in suits for rank in ranks]"
   ]
  },
  {
   "cell_type": "code",
   "execution_count": 60,
   "metadata": {},
   "outputs": [
    {
     "name": "stdout",
     "output_type": "stream",
     "text": [
      "None\n"
     ]
    }
   ],
   "source": [
    "from random import shuffle\n",
    "print(shuffle(deck2))"
   ]
  },
  {
   "cell_type": "code",
   "execution_count": 61,
   "metadata": {},
   "outputs": [
    {
     "name": "stdout",
     "output_type": "stream",
     "text": [
      "[('clubs', '5'), ('hearts', '2'), ('spades', '2'), ('diamonds', '9'), ('diamonds', '5'), ('diamonds', 'A'), ('diamonds', '7'), ('diamonds', '8'), ('spades', '10'), ('diamonds', '2'), ('spades', 'K'), ('spades', '8'), ('diamonds', 'K'), ('spades', 'Q'), ('spades', '7'), ('diamonds', '4'), ('spades', '6'), ('hearts', 'J'), ('spades', '3'), ('spades', '4'), ('hearts', '6'), ('spades', '5'), ('clubs', 'A'), ('hearts', '8'), ('clubs', 'J'), ('hearts', '10'), ('spades', 'A'), ('clubs', '10'), ('clubs', '4'), ('hearts', '5'), ('clubs', '7'), ('clubs', 'Q'), ('diamonds', '6'), ('diamonds', '10'), ('spades', 'J'), ('hearts', '9'), ('clubs', '3'), ('hearts', 'K'), ('clubs', '6'), ('hearts', '7'), ('hearts', 'A'), ('clubs', 'K'), ('diamonds', '3'), ('hearts', '3'), ('diamonds', 'J'), ('clubs', '8'), ('hearts', '4'), ('clubs', '2'), ('spades', '9'), ('diamonds', 'Q'), ('hearts', 'Q'), ('clubs', '9')]\n"
     ]
    }
   ],
   "source": [
    "print(deck2)"
   ]
  },
  {
   "cell_type": "code",
   "execution_count": 119,
   "metadata": {},
   "outputs": [
    {
     "name": "stdout",
     "output_type": "stream",
     "text": [
      "[('spades', 'K'), ('diamonds', 'K'), ('hearts', '6'), ('clubs', '3'), ('hearts', '7'), ('diamonds', 'Q'), ('diamonds', '7'), ('spades', 'A'), ('diamonds', '6'), ('diamonds', '8'), ('clubs', '2'), ('clubs', 'A'), ('diamonds', '5'), ('diamonds', 'J'), ('clubs', '5'), ('diamonds', '2'), ('spades', '7'), ('clubs', 'K'), ('spades', 'J'), ('hearts', '2'), ('spades', '2'), ('hearts', '9'), ('spades', '5'), ('diamonds', '10'), ('clubs', '9'), ('spades', '10'), ('clubs', '8'), ('spades', '3'), ('diamonds', '4'), ('clubs', '4'), ('clubs', '6'), ('spades', '8'), ('spades', '4'), ('spades', '9'), ('spades', 'Q'), ('hearts', 'Q'), ('clubs', '7'), ('spades', '6'), ('hearts', 'J'), ('hearts', '4'), ('hearts', 'A'), ('clubs', 'J'), ('diamonds', 'A'), ('clubs', '10'), ('hearts', '5'), ('hearts', '3'), ('diamonds', '9'), ('hearts', '8'), ('hearts', 'K'), ('diamonds', '3'), ('clubs', 'Q'), ('hearts', '10')]\n"
     ]
    }
   ],
   "source": [
    "shuffle(deck2)\n",
    "print(deck2)"
   ]
  },
  {
   "cell_type": "code",
   "execution_count": 120,
   "metadata": {},
   "outputs": [],
   "source": [
    "board=deck2[4::5][0:3]"
   ]
  },
  {
   "cell_type": "code",
   "execution_count": 121,
   "metadata": {
    "collapsed": true
   },
   "outputs": [],
   "source": [
    "hee=deck2[1::5][0:2]\n",
    "john=deck2[2::5][0:2]\n",
    "jieun=deck2[3::5][0:2]"
   ]
  },
  {
   "cell_type": "code",
   "execution_count": 122,
   "metadata": {},
   "outputs": [
    {
     "data": {
      "text/plain": [
       "([('diamonds', 'K'), ('diamonds', '7')],\n",
       " [('hearts', '6'), ('spades', 'A')],\n",
       " [('clubs', '3'), ('diamonds', '6')])"
      ]
     },
     "execution_count": 122,
     "metadata": {},
     "output_type": "execute_result"
    }
   ],
   "source": [
    "hee,john,jieun"
   ]
  },
  {
   "cell_type": "code",
   "execution_count": 123,
   "metadata": {},
   "outputs": [
    {
     "data": {
      "text/plain": [
       "[('hearts', '7'), ('diamonds', '8'), ('clubs', '5')]"
      ]
     },
     "execution_count": 123,
     "metadata": {},
     "output_type": "execute_result"
    }
   ],
   "source": [
    "board"
   ]
  },
  {
   "cell_type": "code",
   "execution_count": 124,
   "metadata": {},
   "outputs": [
    {
     "data": {
      "text/plain": [
       "[('hearts', '7'),\n",
       " ('diamonds', '8'),\n",
       " ('clubs', '5'),\n",
       " ('hearts', '2'),\n",
       " ('clubs', '9')]"
      ]
     },
     "execution_count": 124,
     "metadata": {},
     "output_type": "execute_result"
    }
   ],
   "source": [
    "deck2[4::5][0:5]"
   ]
  },
  {
   "cell_type": "code",
   "execution_count": null,
   "metadata": {
    "collapsed": true
   },
   "outputs": [],
   "source": [
    "# made scores by probability\n"
   ]
  }
 ],
 "metadata": {
  "kernelspec": {
   "display_name": "Python 3",
   "language": "python",
   "name": "python3"
  },
  "language_info": {
   "codemirror_mode": {
    "name": "ipython",
    "version": 3
   },
   "file_extension": ".py",
   "mimetype": "text/x-python",
   "name": "python",
   "nbconvert_exporter": "python",
   "pygments_lexer": "ipython3",
   "version": "3.5.4"
  }
 },
 "nbformat": 4,
 "nbformat_minor": 2
}
